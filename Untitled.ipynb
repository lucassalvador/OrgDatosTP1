{
 "cells": [
  {
   "cell_type": "code",
   "execution_count": 1,
   "metadata": {},
   "outputs": [],
   "source": [
    "import pandas as pd"
   ]
  },
  {
   "cell_type": "code",
   "execution_count": 6,
   "metadata": {},
   "outputs": [
    {
     "name": "stderr",
     "output_type": "stream",
     "text": [
      "/home/a127017/anaconda3/lib/python3.6/site-packages/IPython/core/interactiveshell.py:2785: DtypeWarning: Columns (4) have mixed types. Specify dtype option on import or set low_memory=False.\n",
      "  interactivity=interactivity, compiler=compiler, result=result)\n"
     ]
    }
   ],
   "source": [
    "df = pd.read_csv(\"events.csv\")"
   ]
  },
  {
   "cell_type": "code",
   "execution_count": 8,
   "metadata": {},
   "outputs": [
    {
     "data": {
      "text/html": [
       "<div>\n",
       "<style scoped>\n",
       "    .dataframe tbody tr th:only-of-type {\n",
       "        vertical-align: middle;\n",
       "    }\n",
       "\n",
       "    .dataframe tbody tr th {\n",
       "        vertical-align: top;\n",
       "    }\n",
       "\n",
       "    .dataframe thead th {\n",
       "        text-align: right;\n",
       "    }\n",
       "</style>\n",
       "<table border=\"1\" class=\"dataframe\">\n",
       "  <thead>\n",
       "    <tr style=\"text-align: right;\">\n",
       "      <th></th>\n",
       "      <th>timestamp</th>\n",
       "      <th>event</th>\n",
       "      <th>person</th>\n",
       "      <th>url</th>\n",
       "      <th>sku</th>\n",
       "      <th>model</th>\n",
       "      <th>condition</th>\n",
       "      <th>storage</th>\n",
       "      <th>color</th>\n",
       "      <th>skus</th>\n",
       "      <th>...</th>\n",
       "      <th>search_engine</th>\n",
       "      <th>channel</th>\n",
       "      <th>new_vs_returning</th>\n",
       "      <th>city</th>\n",
       "      <th>region</th>\n",
       "      <th>country</th>\n",
       "      <th>device_type</th>\n",
       "      <th>screen_resolution</th>\n",
       "      <th>operating_system_version</th>\n",
       "      <th>browser_version</th>\n",
       "    </tr>\n",
       "  </thead>\n",
       "  <tbody>\n",
       "    <tr>\n",
       "      <th>count</th>\n",
       "      <td>1011288</td>\n",
       "      <td>1011288</td>\n",
       "      <td>1011288</td>\n",
       "      <td>82756</td>\n",
       "      <td>563838.0</td>\n",
       "      <td>564284</td>\n",
       "      <td>563836</td>\n",
       "      <td>563836</td>\n",
       "      <td>563836</td>\n",
       "      <td>221699</td>\n",
       "      <td>...</td>\n",
       "      <td>50957</td>\n",
       "      <td>87378</td>\n",
       "      <td>87378</td>\n",
       "      <td>87378</td>\n",
       "      <td>87378</td>\n",
       "      <td>87378</td>\n",
       "      <td>87378</td>\n",
       "      <td>87378</td>\n",
       "      <td>87378</td>\n",
       "      <td>87378</td>\n",
       "    </tr>\n",
       "    <tr>\n",
       "      <th>unique</th>\n",
       "      <td>793805</td>\n",
       "      <td>11</td>\n",
       "      <td>27624</td>\n",
       "      <td>227</td>\n",
       "      <td>3885.0</td>\n",
       "      <td>202</td>\n",
       "      <td>5</td>\n",
       "      <td>8</td>\n",
       "      <td>63</td>\n",
       "      <td>35310</td>\n",
       "      <td>...</td>\n",
       "      <td>4</td>\n",
       "      <td>7</td>\n",
       "      <td>2</td>\n",
       "      <td>1939</td>\n",
       "      <td>93</td>\n",
       "      <td>46</td>\n",
       "      <td>4</td>\n",
       "      <td>282</td>\n",
       "      <td>121</td>\n",
       "      <td>343</td>\n",
       "    </tr>\n",
       "    <tr>\n",
       "      <th>top</th>\n",
       "      <td>2018-05-15 15:56:06</td>\n",
       "      <td>viewed product</td>\n",
       "      <td>71492f2b</td>\n",
       "      <td>/</td>\n",
       "      <td>2830.0</td>\n",
       "      <td>iPhone 6</td>\n",
       "      <td>Bom</td>\n",
       "      <td>16GB</td>\n",
       "      <td>Preto</td>\n",
       "      <td>2820,6706,6720,2750,6649,7251,6663,12604,7224,...</td>\n",
       "      <td>...</td>\n",
       "      <td>Google</td>\n",
       "      <td>Paid</td>\n",
       "      <td>Returning</td>\n",
       "      <td>Unknown</td>\n",
       "      <td>Sao Paulo</td>\n",
       "      <td>Brazil</td>\n",
       "      <td>Smartphone</td>\n",
       "      <td>360x640</td>\n",
       "      <td>Windows 7</td>\n",
       "      <td>Chrome 66.0</td>\n",
       "    </tr>\n",
       "    <tr>\n",
       "      <th>freq</th>\n",
       "      <td>11</td>\n",
       "      <td>528931</td>\n",
       "      <td>2771</td>\n",
       "      <td>28323</td>\n",
       "      <td>4311.0</td>\n",
       "      <td>50916</td>\n",
       "      <td>243014</td>\n",
       "      <td>190833</td>\n",
       "      <td>132960</td>\n",
       "      <td>594</td>\n",
       "      <td>...</td>\n",
       "      <td>50240</td>\n",
       "      <td>44193</td>\n",
       "      <td>60480</td>\n",
       "      <td>15819</td>\n",
       "      <td>24996</td>\n",
       "      <td>84308</td>\n",
       "      <td>44239</td>\n",
       "      <td>30009</td>\n",
       "      <td>19675</td>\n",
       "      <td>22611</td>\n",
       "    </tr>\n",
       "  </tbody>\n",
       "</table>\n",
       "<p>4 rows × 23 columns</p>\n",
       "</div>"
      ],
      "text/plain": [
       "                  timestamp           event    person    url       sku  \\\n",
       "count               1011288         1011288   1011288  82756  563838.0   \n",
       "unique               793805              11     27624    227    3885.0   \n",
       "top     2018-05-15 15:56:06  viewed product  71492f2b      /    2830.0   \n",
       "freq                     11          528931      2771  28323    4311.0   \n",
       "\n",
       "           model condition storage   color  \\\n",
       "count     564284    563836  563836  563836   \n",
       "unique       202         5       8      63   \n",
       "top     iPhone 6       Bom    16GB   Preto   \n",
       "freq       50916    243014  190833  132960   \n",
       "\n",
       "                                                     skus       ...        \\\n",
       "count                                              221699       ...         \n",
       "unique                                              35310       ...         \n",
       "top     2820,6706,6720,2750,6649,7251,6663,12604,7224,...       ...         \n",
       "freq                                                  594       ...         \n",
       "\n",
       "       search_engine channel new_vs_returning     city     region country  \\\n",
       "count          50957   87378            87378    87378      87378   87378   \n",
       "unique             4       7                2     1939         93      46   \n",
       "top           Google    Paid        Returning  Unknown  Sao Paulo  Brazil   \n",
       "freq           50240   44193            60480    15819      24996   84308   \n",
       "\n",
       "       device_type screen_resolution operating_system_version browser_version  \n",
       "count        87378             87378                    87378           87378  \n",
       "unique           4               282                      121             343  \n",
       "top     Smartphone           360x640               Windows 7      Chrome 66.0  \n",
       "freq         44239             30009                    19675           22611  \n",
       "\n",
       "[4 rows x 23 columns]"
      ]
     },
     "execution_count": 8,
     "metadata": {},
     "output_type": "execute_result"
    }
   ],
   "source": [
    "df.describe()"
   ]
  },
  {
   "cell_type": "code",
   "execution_count": 27,
   "metadata": {},
   "outputs": [
    {
     "data": {
      "text/plain": [
       "new_vs_returning\n",
       "New          1\n",
       "Returning    1\n",
       "Name: event, dtype: int64"
      ]
     },
     "execution_count": 27,
     "metadata": {},
     "output_type": "execute_result"
    }
   ],
   "source": [
    "df.groupby('new_vs_returning')['person'].nunique()"
   ]
  },
  {
   "cell_type": "code",
   "execution_count": 16,
   "metadata": {},
   "outputs": [
    {
     "data": {
      "text/plain": [
       "event\n",
       "ad campaign hit      21312\n",
       "brand listing        10821\n",
       "checkout             27624\n",
       "conversion             716\n",
       "generic listing      15404\n",
       "lead                   291\n",
       "search engine hit    17205\n",
       "searched products     7420\n",
       "staticpage            1475\n",
       "viewed product       26316\n",
       "visited site         26899\n",
       "Name: person, dtype: int64"
      ]
     },
     "execution_count": 16,
     "metadata": {},
     "output_type": "execute_result"
    }
   ],
   "source": [
    "df.groupby('event')['person'].nunique()"
   ]
  },
  {
   "cell_type": "code",
   "execution_count": 43,
   "metadata": {},
   "outputs": [
    {
     "data": {
      "text/plain": [
       "person    new_vs_returning\n",
       "0004b0a2  New                  1\n",
       "0006a21a  New                  1\n",
       "000a54b2  New                  1\n",
       "          Returning            1\n",
       "00184bf9  New                  1\n",
       "          Returning            1\n",
       "0019c395  New                  1\n",
       "001bb7eb  New                  1\n",
       "          Returning            1\n",
       "001f1653  New                  1\n",
       "00204059  New                  1\n",
       "          Returning           11\n",
       "0024a82b  New                  1\n",
       "0024ad28  New                  1\n",
       "          Returning            2\n",
       "00269e77  New                  1\n",
       "          Returning            3\n",
       "0026fd72  New                  1\n",
       "          Returning            1\n",
       "0027c344  New                  1\n",
       "          Returning            2\n",
       "00283a9e  New                  1\n",
       "          Returning            1\n",
       "002932b1  New                  1\n",
       "          Returning            3\n",
       "002cecfa  New                  1\n",
       "00300ace  New                  1\n",
       "          Returning            1\n",
       "00344c0a  New                  1\n",
       "003857f6  New                  1\n",
       "                              ..\n",
       "ffd9b5f9  New                  1\n",
       "ffd9e195  New                  1\n",
       "          Returning            1\n",
       "ffdcf469  New                  1\n",
       "ffe006ea  New                  1\n",
       "          Returning            3\n",
       "ffe129fe  New                  1\n",
       "ffe1bfe7  New                  1\n",
       "          Returning            1\n",
       "ffe1f855  New                  1\n",
       "ffe226f0  New                  1\n",
       "ffe741db  New                  1\n",
       "ffeaaa70  New                  1\n",
       "          Returning            2\n",
       "ffeb3a03  New                  1\n",
       "          Returning            1\n",
       "ffef9da6  New                  1\n",
       "fff0e00c  New                  1\n",
       "          Returning            3\n",
       "fff225f8  New                  1\n",
       "fff229f7  New                  1\n",
       "          Returning            1\n",
       "fff568f7  New                  1\n",
       "          Returning            2\n",
       "fff60213  New                  1\n",
       "fff99b85  New                  1\n",
       "ffff8106  New                  1\n",
       "ffffa8d1  New                  1\n",
       "          Returning            3\n",
       "ffffac8a  New                  1\n",
       "Name: event, Length: 38029, dtype: int64"
      ]
     },
     "execution_count": 43,
     "metadata": {},
     "output_type": "execute_result"
    }
   ],
   "source": [
    "df.groupby(['person','new_vs_returning'])['event'].count()"
   ]
  },
  {
   "cell_type": "code",
   "execution_count": 25,
   "metadata": {},
   "outputs": [
    {
     "data": {
      "text/plain": [
       "condition\n",
       "Bom                   0\n",
       "Bom - Sem Touch ID    0\n",
       "Excelente             0\n",
       "Muito Bom             0\n",
       "Novo                  0\n",
       "Name: url, dtype: int64"
      ]
     },
     "execution_count": 25,
     "metadata": {},
     "output_type": "execute_result"
    }
   ],
   "source": [
    "df.groupby('condition')['person'].nunique()"
   ]
  },
  {
   "cell_type": "code",
   "execution_count": 26,
   "metadata": {},
   "outputs": [
    {
     "data": {
      "text/plain": [
       "screen_resolution\n",
       "1000x750     0\n",
       "1007x569     0\n",
       "1012x569     0\n",
       "1024x1024    0\n",
       "1024x552     0\n",
       "1024x576     0\n",
       "1024x600     0\n",
       "1024x615     0\n",
       "1024x640     0\n",
       "1024x756     0\n",
       "1024x768     0\n",
       "1024x819     0\n",
       "1024x820     0\n",
       "1024x864     0\n",
       "1025x576     0\n",
       "1041x586     0\n",
       "1051x591     0\n",
       "1067x592     0\n",
       "1067x600     0\n",
       "1080x1920    0\n",
       "1080x1921    0\n",
       "1080x2004    0\n",
       "1080x2010    0\n",
       "1080x2160    0\n",
       "1080x2220    0\n",
       "1082x1922    0\n",
       "1088x614     0\n",
       "1088x615     0\n",
       "1093x614     0\n",
       "1093x615     0\n",
       "            ..\n",
       "640x480      0\n",
       "648x366      0\n",
       "720x1280     0\n",
       "721x1281     0\n",
       "722x406      0\n",
       "732x412      0\n",
       "740x360      0\n",
       "753x424      0\n",
       "768x1024     0\n",
       "768x1366     0\n",
       "768x976      0\n",
       "800x1280     0\n",
       "800x444      0\n",
       "800x450      0\n",
       "800x480      0\n",
       "800x600      0\n",
       "820x480      0\n",
       "820x615      0\n",
       "834x1112     0\n",
       "854x683      0\n",
       "855x480      0\n",
       "900x1440     0\n",
       "907x512      0\n",
       "922x692      0\n",
       "960x540      0\n",
       "960x600      0\n",
       "962x601      0\n",
       "971x549      0\n",
       "976x549      0\n",
       "976x610      0\n",
       "Name: url, Length: 282, dtype: int64"
      ]
     },
     "execution_count": 26,
     "metadata": {},
     "output_type": "execute_result"
    }
   ],
   "source": [
    "df.groupby('screen_resolution')['person'].nunique()"
   ]
  },
  {
   "cell_type": "code",
   "execution_count": 15,
   "metadata": {},
   "outputs": [
    {
     "data": {
      "text/plain": [
       "new_vs_returning\n",
       "New          26898\n",
       "Returning    60480\n",
       "Name: person, dtype: int64"
      ]
     },
     "execution_count": 15,
     "metadata": {},
     "output_type": "execute_result"
    }
   ],
   "source": [
    "df.groupby('new_vs_returning')['person'].count()"
   ]
  },
  {
   "cell_type": "code",
   "execution_count": null,
   "metadata": {},
   "outputs": [],
   "source": []
  }
 ],
 "metadata": {
  "kernelspec": {
   "display_name": "Python 3",
   "language": "python",
   "name": "python3"
  },
  "language_info": {
   "codemirror_mode": {
    "name": "ipython",
    "version": 3
   },
   "file_extension": ".py",
   "mimetype": "text/x-python",
   "name": "python",
   "nbconvert_exporter": "python",
   "pygments_lexer": "ipython3",
   "version": "3.6.5"
  }
 },
 "nbformat": 4,
 "nbformat_minor": 2
}
